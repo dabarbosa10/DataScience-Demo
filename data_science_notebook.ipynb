{
  "nbformat": 4,
  "nbformat_minor": 0,
  "metadata": {
    "colab": {
      "provenance": [],
      "toc_visible": true,
      "authorship_tag": "ABX9TyMxQ8fbhsrncjZcz4LtznHt",
      "include_colab_link": true
    },
    "kernelspec": {
      "name": "python3",
      "display_name": "Python 3"
    },
    "language_info": {
      "name": "python"
    }
  },
  "cells": [
    {
      "cell_type": "markdown",
      "metadata": {
        "id": "view-in-github",
        "colab_type": "text"
      },
      "source": [
        "<a href=\"https://colab.research.google.com/github/dabarbosa10/DataScience-Demo/blob/main/data_science_notebook.ipynb\" target=\"_parent\"><img src=\"https://colab.research.google.com/assets/colab-badge.svg\" alt=\"Open In Colab\"/></a>"
      ]
    },
    {
      "cell_type": "markdown",
      "source": [
        "## Ingest\n"
      ],
      "metadata": {
        "id": "fv-kvm6KT1XC"
      }
    },
    {
      "cell_type": "code",
      "execution_count": null,
      "metadata": {
        "id": "3di2B_Y6Tvtr"
      },
      "outputs": [],
      "source": [
        "##"
      ]
    },
    {
      "cell_type": "markdown",
      "source": [
        "## EDA"
      ],
      "metadata": {
        "id": "cuo4UW7lT8kV"
      }
    },
    {
      "cell_type": "code",
      "source": [],
      "metadata": {
        "id": "b4LZTvQCT-FB"
      },
      "execution_count": null,
      "outputs": []
    },
    {
      "cell_type": "markdown",
      "source": [
        "##Modeling"
      ],
      "metadata": {
        "id": "ZY_VTeTAT-iX"
      }
    },
    {
      "cell_type": "markdown",
      "source": [
        "### Classification algorithm B"
      ],
      "metadata": {
        "id": "YxNMaZMcWHsk"
      }
    },
    {
      "cell_type": "markdown",
      "source": [
        "### Classification algorithm A\n"
      ],
      "metadata": {
        "id": "o62o8sRUU0p-"
      }
    },
    {
      "cell_type": "code",
      "source": [],
      "metadata": {
        "id": "8pFUhAFdT_0B"
      },
      "execution_count": null,
      "outputs": []
    },
    {
      "cell_type": "markdown",
      "source": [
        "## Conclusion"
      ],
      "metadata": {
        "id": "UEZiY5nxUEuB"
      }
    },
    {
      "cell_type": "code",
      "source": [],
      "metadata": {
        "id": "SEDLUURfUGsc"
      },
      "execution_count": null,
      "outputs": []
    }
  ]
}